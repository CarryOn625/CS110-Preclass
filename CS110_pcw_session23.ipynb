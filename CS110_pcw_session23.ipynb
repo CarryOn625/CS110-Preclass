{
 "cells": [
  {
   "cell_type": "markdown",
   "metadata": {
    "deletable": false,
    "editable": false
   },
   "source": [
    "Before you turn this problem in, make sure everything runs as expected. First, **restart the kernel** (in the menubar, select Kernel$\\rightarrow$Restart) and then **run all cells** (in the menubar, select Cell$\\rightarrow$Run All).\n",
    "\n",
    "Note that this Pre-class Work is estimated to take **46 minutes**.\n",
    "\n",
    "Make sure you fill in any place that says `YOUR CODE HERE` or \"YOUR ANSWER HERE\", as well as your name and collaborators below:"
   ]
  },
  {
   "cell_type": "code",
   "execution_count": null,
   "metadata": {},
   "outputs": [],
   "source": [
    "NAME = \"Paul Song\"\n",
    "COLLABORATORS = \"\""
   ]
  },
  {
   "cell_type": "markdown",
   "metadata": {
    "deletable": false,
    "editable": false
   },
   "source": [
    "# CS110 Pre-class Work - Computational applications of dynamic programming and greedy algorithms"
   ]
  },
  {
   "cell_type": "markdown",
   "metadata": {
    "deletable": false,
    "editable": false
   },
   "source": [
    "## Question 1 [time estimate: 18 minutes]\n",
    "Complete the following functions, following the algorithms in Cormen et al."
   ]
  },
  {
   "cell_type": "code",
   "execution_count": 136,
   "metadata": {},
   "outputs": [],
   "source": [
    "def lcs_length(x, y):\n",
    "    \"\"\"\n",
    "    Computes the length of an LCS of strings x and y.\n",
    "    \n",
    "    Inputs:\n",
    "    - x, y: strings\n",
    "    \n",
    "    Outputs:\n",
    "    - c: a list of lists of ints OR a numpy array. c[i,j] contains the \n",
    "    length of a LCS of x[:i] and y[:j]\n",
    "    - b: a list of lists of strings OR a numpy array, containing the information\n",
    "    used for LCS reconstruction (See Cormen et al.) Use \"N\" (North), \"NW\" \n",
    "    (North West), and \"W\" (West) that correspond to the directions of the arrows \n",
    "    used in Cormen et al.\n",
    "    \"\"\"\n",
    "    \n",
    "    m = len(x)\n",
    "    n = len(y)\n",
    "    b = [[None] * (n) for i in range(m)]        # create 2-dimensional array that will store the directions of the arrows\n",
    "    c = [[None] * (n+1) for i in range(m+1)]    # create 2-dimensional array that contains the length of LCS\n",
    "    \n",
    "    # set the first column and row as 0 \n",
    "    for i in range(m+1):                        \n",
    "        c[i][0] = 0\n",
    "    for i in range(n+1):\n",
    "        c[0][i] = 0\n",
    "    \n",
    "    for i in range(m):                          # loop through the rows\n",
    "        for j in range(n):                      # loop through the columns\n",
    "            if x[i] == y[j]:                    # if there is a character that overlaps in the two inputs,\n",
    "                c[i+1][j+1] = c[i][j] + 1           # increase the corresponding element in c by 1 \n",
    "                b[i][j] = \"NW\"                      # set the direction as north west\n",
    "            elif c[i][j+1] >= c[i+1][j]:        # if character above the current element is greater \n",
    "                c[i+1][j+1] = c[i][j+1]         # than or equal to the one to the left,\n",
    "                b[i][j] = \"N\"                       # set the current elemnt of c as the one above it and set direction as north\n",
    "            else:                               # if character to the left of the current element is greater \n",
    "                c[i+1][j+1] = c[i+1][j]             # set the current element of c as the one to its left\n",
    "                b[i][j] = \"W\"                       # set direction as west\n",
    "    return c, b"
   ]
  },
  {
   "cell_type": "code",
   "execution_count": 157,
   "metadata": {
    "scrolled": true
   },
   "outputs": [],
   "source": [
    "def print_lcs(b,x,i,j,lcs=None):\n",
    "    \"\"\"\n",
    "    Finds a LCS.\n",
    "    \n",
    "    Inputs:\n",
    "    - b: a list of lists of strings OR a numpy array, returned by lcs_length\n",
    "    - x: string, an input to lcs_length\n",
    "    - i, j: ints. print_lcs(b,x,i,j) returns a lcs of x[:i] and y[:j], where y\n",
    "    is an input to lcs_length.\n",
    "    \n",
    "    Outputs:\n",
    "    - lcs: list of strings, representing a LCS of x and y\n",
    "    - length: int, the length of the LCS\n",
    "    \n",
    "    You can choose to actually PRINT OUT the LCS or not using the print function.\n",
    "    \n",
    "    \"\"\"\n",
    "    if lcs == None:                  # initialize the list that will store the LCS\n",
    "        lcs = []\n",
    "    if i == -1 or j == -1:           # breakout condition: if we looped through all the elements of b, break loop\n",
    "        return\n",
    "    if b[i][j] == \"NW\":              # if direction is north west, the characters match\n",
    "        print_lcs(b,x,i-1,j-1,lcs)   # recursively call this function but with element moved to the north west\n",
    "        lcs.append(x[i])             # append the common character to lcs\n",
    "    elif b[i][j] == \"N\":             # if the direction is north, recursively call but with element moved to the north\n",
    "        print_lcs(b,x,i-1,j,lcs)\n",
    "    else:                            # if the direction is west, recursively call but with element mvoed to the west\n",
    "        print_lcs(b,x,i,j-1,lcs)\n",
    "    \n",
    "    return lcs, len(lcs)             # return tuple with LCS and its length"
   ]
  },
  {
   "cell_type": "code",
   "execution_count": 145,
   "metadata": {
    "deletable": false,
    "editable": false
   },
   "outputs": [],
   "source": [
    "import numpy as np\n",
    "x, y = 'ambgdec', 'aubyci'\n",
    "c, b = lcs_length(x, y)\n",
    "assert(print_lcs(b,x,len(x)-1,len(y)-1)[0] == ['a', 'b', 'c'])\n",
    "assert(print_lcs(b,x,len(x)-1,len(y)-1)[1] == 3)\n",
    "\n",
    "x, y = 'xyqwsssazdesaqqf', 'xoppoypllzookjdef'\n",
    "c, b = lcs_length(x, y)\n",
    "assert(print_lcs(b,x,len(x)-1,len(y)-1)[0]  == ['x', 'y', 'z', 'd', 'e', 'f'])\n",
    "assert(print_lcs(b,x,len(x)-1,len(y)-1)[1]  == 6)"
   ]
  },
  {
   "cell_type": "markdown",
   "metadata": {
    "deletable": false,
    "editable": false
   },
   "source": [
    "## Question 2. (Adapted from Exercise 15-4.1 Cormen et al.) [time estimate: 3 minutes]\n",
    "Use the functions built in Question 1 to find the LCS of ```'10010101'``` and ```'010110110'```. You should store the list that represents the LCS you found in a variable named ```lcs_q2```"
   ]
  },
  {
   "cell_type": "code",
   "execution_count": 150,
   "metadata": {},
   "outputs": [
    {
     "data": {
      "text/plain": [
       "['1', '0', '0', '1', '1', '0']"
      ]
     },
     "execution_count": 150,
     "metadata": {},
     "output_type": "execute_result"
    }
   ],
   "source": [
    "x, y = '10010101', '010110110'     # x and y are the two strings being compared\n",
    "lcs_q2 = print_lcs(lcs_length(x,y)[1],x,len(x)-1,len(y)-1)[0]\n",
    "lcs_q2                             # LCS"
   ]
  },
  {
   "cell_type": "markdown",
   "metadata": {
    "deletable": false,
    "editable": false
   },
   "source": [
    "## Question 3. (Adapted from Exercise 15-4.5 Cormen et al.) [time estimate: 15 minutes]\n",
    "Complete the following function, making use of ```lcs_length``` and ```print_lcs```."
   ]
  },
  {
   "cell_type": "code",
   "execution_count": 156,
   "metadata": {},
   "outputs": [],
   "source": [
    "def lmis(lst):\n",
    "    \"\"\"\n",
    "    Finds the Longest Monotonically Increasing Subsequence (LMIS) of a list \n",
    "    (lst) of n numbers in O(n^2) time. Note that a monotonically increasing \n",
    "    sequence is a sequence of numbers such that: a_1 <= a_2 <= ... <= a_n .\n",
    "    \n",
    "    Inputs:\n",
    "    - lst: a list of ints\n",
    "    \n",
    "    Outputs:\n",
    "    - out_lst: a list of ints, a longest monotonically increasing subsequence\n",
    "    of lst\n",
    "    \"\"\"\n",
    "    # basic idea is to compare a list of increasing integers that go until the highest number of inputted list\n",
    "    # and then find the LCS so that we get the longest monotonically increasing subsequence\n",
    "    \n",
    "    compare = [i for i in range(max(lst)+1)]    # list called compare with increasing integers until max of inputted list\n",
    "    return print_lcs(lcs_length(lst,compare)[1],lst,len(lst)-1,len(compare)-1)[0]"
   ]
  },
  {
   "cell_type": "markdown",
   "metadata": {
    "deletable": false,
    "editable": false
   },
   "source": [
    "## Question 4 [time estimate: 5 minutes]\n",
    "How would you devise a greedy algorithm to compute the longest common subsequence in a string? Explain your strategy step by step, and comment on any advantages/limitations over the dynamic programming approach. Provide a few test cases to check the validity of the greedy approach."
   ]
  },
  {
   "cell_type": "markdown",
   "metadata": {},
   "source": [
    "    A highly inefficient and greedy algorithm would be to get all the possible subsequences of a string and then compare that with all the possible subsequences of another string. The longest subsequence from both strings that are the same is the answer.\n",
    "    For example, if we're comparing \"abc\" and \"bc\", we start with \"abc\" and see that all the possible subsequences are \"a\",\"b\",\"c\",\"ab\",\"ba\",\"ac\",\"bc\", and \"abc\". Then, the second string has possible subsequences of \"b\",\"c\", and \"bc\". Now, we compare all the subsequences and find that \"bc\" overlaps and is the longest overlapping subsequence (others being \"b\" and \"c\").\n",
    "    An advantage over the dynamic approach is that is much simpler to understand and easy to implement. When comparing very short strings, this might even be faster (not sure) but that is where the advantages end. It is extremely inefficient and as we saw, even with a string of length 3, the possible subsequences was 8. This would exponentially increase as the length of the string increases."
   ]
  }
 ],
 "metadata": {
  "kernelspec": {
   "display_name": "Python 3",
   "language": "python",
   "name": "python3"
  },
  "language_info": {
   "codemirror_mode": {
    "name": "ipython",
    "version": 3
   },
   "file_extension": ".py",
   "mimetype": "text/x-python",
   "name": "python",
   "nbconvert_exporter": "python",
   "pygments_lexer": "ipython3",
   "version": "3.9.0"
  }
 },
 "nbformat": 4,
 "nbformat_minor": 4
}
