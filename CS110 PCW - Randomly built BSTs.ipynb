{
 "cells": [
  {
   "cell_type": "markdown",
   "metadata": {},
   "source": [
    "Before you turn this problem in, make sure everything runs as expected. First, **restart the kernel** (in the menubar, select Kernel$\\rightarrow$Restart) and then **run all cells** (in the menubar, select Cell$\\rightarrow$Run All).\n",
    "\n",
    "Note that this Pre-class Work is estimated to take **43 minutes**.\n",
    "\n",
    "Make sure you fill in any place that says `YOUR CODE HERE` or \"YOUR ANSWER HERE\", as well as your name and collaborators below:"
   ]
  },
  {
   "cell_type": "code",
   "execution_count": 1,
   "metadata": {},
   "outputs": [],
   "source": [
    "NAME = \"Paul\"\n",
    "COLLABORATORS = \"\""
   ]
  },
  {
   "cell_type": "markdown",
   "metadata": {},
   "source": [
    "---"
   ]
  },
  {
   "cell_type": "markdown",
   "metadata": {
    "deletable": false,
    "editable": false,
    "nbgrader": {
     "checksum": "53f91bdb5f2f106f06872a2a6e7a98f5",
     "grade": false,
     "grade_id": "cell-bd90321d310ba2d4",
     "locked": true,
     "schema_version": 1,
     "solution": false
    }
   },
   "source": [
    "# CS110 Pre-class Work - Randomly built BSTs\n",
    "\n",
    "## Part A. Average number of comparisons when searching"
   ]
  },
  {
   "cell_type": "markdown",
   "metadata": {
    "deletable": false,
    "editable": false,
    "nbgrader": {
     "checksum": "c1c60903cd4344daf3877a1a656e283e",
     "grade": false,
     "grade_id": "cell-9e8b16db9d917705",
     "locked": true,
     "schema_version": 1,
     "solution": false
    }
   },
   "source": [
    "## Question 0 [time estimate: 1 minute] \n",
    "\n",
    "Paste in the working code from last session's PCW for the class Node, which contains the methods for insertion, searching, and deletion. \n",
    "\n"
   ]
  },
  {
   "cell_type": "code",
   "execution_count": 54,
   "metadata": {
    "deletable": false,
    "nbgrader": {
     "checksum": "525698a22b0cee9c4cb74be2011232de",
     "grade": true,
     "grade_id": "cell-1eadb1312ac0519d",
     "locked": false,
     "points": 0,
     "schema_version": 1,
     "solution": true
    }
   },
   "outputs": [],
   "source": [
    "# Binary Search Tree\n",
    "## \n",
    "class Node:\n",
    "    def __init__(self, val):\n",
    "        self.l_child = None\n",
    "        self.r_child = None\n",
    "        self.parent = None\n",
    "        self.data = val\n",
    "\n",
    "    def insert(self, node):\n",
    "        \"\"\"inserts a node into a *non-empty* tree rooted at the node, returns\n",
    "        the root\"\"\"\n",
    "        if self.data > node.data:                # if current node is greater than inputted node\n",
    "            if self.l_child is None:             # if left node is empty\n",
    "                self.l_child = node              # left node is now the inputted node\n",
    "                node.parent = self               # parent of the node is the current node\n",
    "            else:\n",
    "                self.l_child.insert(node)        # if left node is not empty, insert it to left node\n",
    "        else:                                    # if current node is not greater than inputted node\n",
    "            if self.r_child is None:              # similar to what we did for left node...\n",
    "                self.r_child = node\n",
    "                node.parent = self\n",
    "            else:\n",
    "                self.r_child.insert(node)\n",
    "        return self                              \n",
    "    \n",
    "    def minimum(self):\n",
    "        node = self\n",
    "        while node.l_child != None:      # keep moving left until we hit last node\n",
    "            node = node.l_child\n",
    "        return node\n",
    "\n",
    "    def search_data(self, value):\n",
    "        \"\"\"searches a *non-empty* tree rooted at the node for a node with\n",
    "        data = value, returns the value if found, None otherwise\"\"\"\n",
    "        node = self.search(value)\n",
    "        if node:                  \n",
    "            return node.data\n",
    "        else: \n",
    "            return node           \n",
    "        \n",
    "    def to_string(self): \n",
    "        print('self.data', self.data)\n",
    "        root=self\n",
    "        if not root: \n",
    "            return 'Nil'\n",
    "        else: \n",
    "            r = root.r_child.to_string() if root.r_child else 'Nil'\n",
    "            l = root.l_child.to_string() if root.l_child else 'Nil'\n",
    "        return 'Node(' + str(root.data) + ' L: ' + l + ' R: ' + r + ')'\n",
    "    \n",
    "    def delete(self, value):\n",
    "        def transplant(node1, node2):\n",
    "            \"\"\"\n",
    "            replaces the subtree rooted at node1 with the subtree rooted at node2\n",
    "            \"\"\"\n",
    "            nonlocal root\n",
    "            if node1.parent == None:\n",
    "                root = node2\n",
    "            elif node1 == node1.parent.l_child:\n",
    "                node1.parent.l_child = node2\n",
    "            else:\n",
    "                node1.parent.r_child = node2\n",
    "            if node2 != None:\n",
    "                node2.parent = node1.parent\n",
    "\n",
    "        \"\"\"if a node with data = value is present in the tree rooted at Node, deletes that node and returns the root\"\"\"\n",
    "        root = self\n",
    "        node = root.search(value)\n",
    "        if node:\n",
    "            if node.l_child is None:\n",
    "                transplant(node, node.r_child)\n",
    "            elif node.r_child == None:\n",
    "                transplant(node, node.l_child)\n",
    "            else:\n",
    "                y = node.r_child.minimum() # y = minimum(node.r_child)\n",
    "                if y.parent != node:\n",
    "                    transplant(y, y.r_child)\n",
    "                    y.r_child = node.r_child\n",
    "                    y.r_child.parent = y\n",
    "                transplant(node, y)\n",
    "                y.l_child = node.l_child\n",
    "                y.l_child.parent = y\n",
    "        return root\n",
    "    \n",
    "    def search(self, value):\n",
    "        \"\"\"\n",
    "        Function to find a value in a BST. If there the value, return the node. If not, return None\n",
    "        \n",
    "        \"\"\"\n",
    "        node = self\n",
    "        while node.data != value:                 # while the node we're at is not the value we're looking for or None:\n",
    "            if value > node.data: \n",
    "                if node.r_child:\n",
    "                    node = node.r_child\n",
    "                else:\n",
    "                    return None\n",
    "            else:      \n",
    "                if node.l_child:\n",
    "                    node = node.l_child                 # same idea as above but with value less than or equal to current node\n",
    "                else:\n",
    "                    return None\n",
    "        return node"
   ]
  },
  {
   "cell_type": "markdown",
   "metadata": {
    "deletable": false,
    "editable": false,
    "nbgrader": {
     "checksum": "a79cbf2799a45e4c351c9ed9f600c3b5",
     "grade": false,
     "grade_id": "cell-d3f754a4d3637207",
     "locked": true,
     "schema_version": 1,
     "solution": false
    }
   },
   "source": [
    "\n",
    "## Question 1 [time estimate: 5 minutes]\n",
    "\n",
    "Complete the following function that computes the depth of a given node in a BST identified by its root. Use the test below to make sure your code works properly (Optional: Why does the test work?)"
   ]
  },
  {
   "cell_type": "code",
   "execution_count": 48,
   "metadata": {
    "deletable": false,
    "nbgrader": {
     "checksum": "6040a364ba7372adc7f259a4b0d875fc",
     "grade": false,
     "grade_id": "cell-cd10e9a432673bd9",
     "locked": false,
     "schema_version": 1,
     "solution": true
    }
   },
   "outputs": [],
   "source": [
    "import math\n",
    "def depth(root, node):\n",
    "    \"\"\"\n",
    "    Finds the depth of the node in a BST. depth of root is 0.\n",
    "\n",
    "    Parameters\n",
    "    ----------\n",
    "    root \n",
    "        A node, the root of the BST\n",
    "    node \n",
    "        A node to compute the depth of\n",
    "\n",
    "    Returns\n",
    "    -------\n",
    "    d : int \n",
    "        Distance from node to root\n",
    "        \n",
    "    \"\"\"\n",
    "    depth = 0                         # initiate counter that starts at 0\n",
    "    while root.data != node.data:     # we start form the root and go down to the target node\n",
    "        depth += 1                    # whenever we move one node downwards, we increase counter\n",
    "        if node.data >= root.data:    # if the current node is larger than node, move to the right child and change current node\n",
    "            root = root.r_child\n",
    "        else:\n",
    "            root = root.l_child       # vice versa for smaller node\n",
    "    return depth          "
   ]
  },
  {
   "cell_type": "code",
   "execution_count": 49,
   "metadata": {},
   "outputs": [],
   "source": [
    "# Testing code \n",
    "bst = None\n",
    "nodes = [Node(15), Node(6), Node(18), Node(3), Node(7), \n",
    "         Node(17), Node(20), Node(2), Node(4)]\n",
    "for node in nodes:\n",
    "    if not bst:\n",
    "        bst = node\n",
    "    else:\n",
    "        bst.insert(node)\n",
    "        #insert(bst, node)\n",
    "for i in range(len(nodes)):\n",
    "    assert(depth(bst, nodes[i]) == int(math.log(i+1,2)))"
   ]
  },
  {
   "cell_type": "code",
   "execution_count": null,
   "metadata": {
    "deletable": false,
    "editable": false,
    "nbgrader": {
     "checksum": "46a630a4c6307c799c44715ec3868d58",
     "grade": true,
     "grade_id": "cell-c57bc5138040968c",
     "locked": true,
     "points": 1,
     "schema_version": 1,
     "solution": false
    }
   },
   "outputs": [],
   "source": [
    "# Please ignore this cell. This cell is for us to implement the tests \n",
    "# to see if your code works properly. "
   ]
  },
  {
   "cell_type": "markdown",
   "metadata": {
    "deletable": false,
    "editable": false,
    "nbgrader": {
     "checksum": "01fa65ccabde3f2f6a8c62aca64dcd53",
     "grade": false,
     "grade_id": "cell-bd8ce3e36c859c2e",
     "locked": true,
     "schema_version": 1,
     "solution": false
    }
   },
   "source": [
    "## Question 2 [time estimate: 5 minutes]\n",
    "\n",
    "Complete the following function, making use of `depth`, to calculate the average number of comparisons required to search for a randomly chosen element of a standard BST. For example, the following tree:\n",
    "\n",
    "                            12\n",
    "                              \\\n",
    "                               14\n",
    "\n",
    "will have an average number of comparisons of 1.5. This is because 50% of the time we will be searching for 12 (1 comparison), and 50% of the time we will be searching for 14 (2 comparisons).\n",
    "\n",
    "You can test your function with this test case by constructing the tree using the code from the last session's pre-class work. \n",
    "\n",
    "\n",
    "(*Hint*: the number of comparisons required to search for node a is `depth(root, a) + 1`.) "
   ]
  },
  {
   "cell_type": "code",
   "execution_count": 50,
   "metadata": {
    "deletable": false,
    "nbgrader": {
     "checksum": "5de9ebf48a00878b4b565237c2d88265",
     "grade": false,
     "grade_id": "cell-34e9cb302f1dad00",
     "locked": false,
     "schema_version": 1,
     "solution": true
    }
   },
   "outputs": [],
   "source": [
    "def avg_cmp(bst):\n",
    "    \"\"\"\n",
    "    Finds the average number of comparisons required \n",
    "    to search for a randomly chosen element of a standard BST. \n",
    "    \n",
    "    Parameters\n",
    "    ----------\n",
    "    bst \n",
    "        A Node, the root of the BST\n",
    "    \n",
    "    Returns\n",
    "    -------\n",
    "    n : float\n",
    "        Average number of comparisons\n",
    "        \n",
    "    \"\"\"\n",
    "    cmp = 0\n",
    "    num_nodes = 0\n",
    "    while bst:\n",
    "        cmp += depth(bst, bst.minimum()) + 1\n",
    "        num_nodes += 1\n",
    "        bst.delete(bst.minimum())\n",
    "    return cmp / num_nodes"
   ]
  },
  {
   "cell_type": "code",
   "execution_count": 51,
   "metadata": {
    "deletable": false,
    "editable": false,
    "nbgrader": {
     "checksum": "7c94a3d9e151e1a920e846ff98e118a8",
     "grade": true,
     "grade_id": "cell-dedc229bbb15d811",
     "locked": true,
     "points": 1,
     "schema_version": 1,
     "solution": false
    }
   },
   "outputs": [],
   "source": [
    "# Please ignore this cell. This cell is for us to implement the tests \n",
    "# to see if your code works properly. "
   ]
  },
  {
   "cell_type": "code",
   "execution_count": 55,
   "metadata": {},
   "outputs": [
    {
     "ename": "TypeError",
     "evalue": "'<' not supported between instances of 'int' and 'Node'",
     "output_type": "error",
     "traceback": [
      "\u001b[1;31m---------------------------------------------------------------------------\u001b[0m",
      "\u001b[1;31mTypeError\u001b[0m                                 Traceback (most recent call last)",
      "\u001b[1;32m<ipython-input-55-c4e41ea5d772>\u001b[0m in \u001b[0;36m<module>\u001b[1;34m\u001b[0m\n\u001b[0;32m      8\u001b[0m         \u001b[0mbst\u001b[0m\u001b[1;33m.\u001b[0m\u001b[0minsert\u001b[0m\u001b[1;33m(\u001b[0m\u001b[0mnode\u001b[0m\u001b[1;33m)\u001b[0m\u001b[1;33m\u001b[0m\u001b[1;33m\u001b[0m\u001b[0m\n\u001b[0;32m      9\u001b[0m \u001b[1;33m\u001b[0m\u001b[0m\n\u001b[1;32m---> 10\u001b[1;33m \u001b[0mprint\u001b[0m\u001b[1;33m(\u001b[0m\u001b[0mavg_cmp\u001b[0m\u001b[1;33m(\u001b[0m\u001b[0mbst\u001b[0m\u001b[1;33m)\u001b[0m\u001b[1;33m)\u001b[0m\u001b[1;33m\u001b[0m\u001b[1;33m\u001b[0m\u001b[0m\n\u001b[0m",
      "\u001b[1;32m<ipython-input-50-40b86f8ecc9c>\u001b[0m in \u001b[0;36mavg_cmp\u001b[1;34m(bst)\u001b[0m\n\u001b[0;32m     20\u001b[0m         \u001b[0mcmp\u001b[0m \u001b[1;33m+=\u001b[0m \u001b[0mdepth\u001b[0m\u001b[1;33m(\u001b[0m\u001b[0mbst\u001b[0m\u001b[1;33m,\u001b[0m \u001b[0mbst\u001b[0m\u001b[1;33m.\u001b[0m\u001b[0mminimum\u001b[0m\u001b[1;33m(\u001b[0m\u001b[1;33m)\u001b[0m\u001b[1;33m)\u001b[0m \u001b[1;33m+\u001b[0m \u001b[1;36m1\u001b[0m\u001b[1;33m\u001b[0m\u001b[1;33m\u001b[0m\u001b[0m\n\u001b[0;32m     21\u001b[0m         \u001b[0mnum_nodes\u001b[0m \u001b[1;33m+=\u001b[0m \u001b[1;36m1\u001b[0m\u001b[1;33m\u001b[0m\u001b[1;33m\u001b[0m\u001b[0m\n\u001b[1;32m---> 22\u001b[1;33m         \u001b[0mbst\u001b[0m\u001b[1;33m.\u001b[0m\u001b[0mdelete\u001b[0m\u001b[1;33m(\u001b[0m\u001b[0mbst\u001b[0m\u001b[1;33m.\u001b[0m\u001b[0mminimum\u001b[0m\u001b[1;33m(\u001b[0m\u001b[1;33m)\u001b[0m\u001b[1;33m)\u001b[0m\u001b[1;33m\u001b[0m\u001b[1;33m\u001b[0m\u001b[0m\n\u001b[0m\u001b[0;32m     23\u001b[0m     \u001b[1;32mreturn\u001b[0m \u001b[0mcmp\u001b[0m \u001b[1;33m/\u001b[0m \u001b[0mnum_nodes\u001b[0m\u001b[1;33m\u001b[0m\u001b[1;33m\u001b[0m\u001b[0m\n",
      "\u001b[1;32m<ipython-input-54-66f5e8d4f4ea>\u001b[0m in \u001b[0;36mdelete\u001b[1;34m(self, value)\u001b[0m\n\u001b[0;32m     67\u001b[0m         \u001b[1;34m\"\"\"if a node with data = value is present in the tree rooted at Node, deletes that node and returns the root\"\"\"\u001b[0m\u001b[1;33m\u001b[0m\u001b[1;33m\u001b[0m\u001b[0m\n\u001b[0;32m     68\u001b[0m         \u001b[0mroot\u001b[0m \u001b[1;33m=\u001b[0m \u001b[0mself\u001b[0m\u001b[1;33m\u001b[0m\u001b[1;33m\u001b[0m\u001b[0m\n\u001b[1;32m---> 69\u001b[1;33m         \u001b[0mnode\u001b[0m \u001b[1;33m=\u001b[0m \u001b[0mroot\u001b[0m\u001b[1;33m.\u001b[0m\u001b[0msearch\u001b[0m\u001b[1;33m(\u001b[0m\u001b[0mvalue\u001b[0m\u001b[1;33m)\u001b[0m\u001b[1;33m\u001b[0m\u001b[1;33m\u001b[0m\u001b[0m\n\u001b[0m\u001b[0;32m     70\u001b[0m         \u001b[1;32mif\u001b[0m \u001b[0mnode\u001b[0m\u001b[1;33m:\u001b[0m\u001b[1;33m\u001b[0m\u001b[1;33m\u001b[0m\u001b[0m\n\u001b[0;32m     71\u001b[0m             \u001b[1;32mif\u001b[0m \u001b[0mnode\u001b[0m\u001b[1;33m.\u001b[0m\u001b[0ml_child\u001b[0m \u001b[1;32mis\u001b[0m \u001b[1;32mNone\u001b[0m\u001b[1;33m:\u001b[0m\u001b[1;33m\u001b[0m\u001b[1;33m\u001b[0m\u001b[0m\n",
      "\u001b[1;32m<ipython-input-54-66f5e8d4f4ea>\u001b[0m in \u001b[0;36msearch\u001b[1;34m(self, value)\u001b[0m\n\u001b[0;32m     91\u001b[0m         \u001b[0mnode\u001b[0m \u001b[1;33m=\u001b[0m \u001b[0mself\u001b[0m\u001b[1;33m\u001b[0m\u001b[1;33m\u001b[0m\u001b[0m\n\u001b[0;32m     92\u001b[0m         \u001b[1;32mwhile\u001b[0m \u001b[0mnode\u001b[0m\u001b[1;33m.\u001b[0m\u001b[0mdata\u001b[0m \u001b[1;33m!=\u001b[0m \u001b[0mvalue\u001b[0m\u001b[1;33m:\u001b[0m                 \u001b[1;31m# while the node we're at is not the value we're looking for or None:\u001b[0m\u001b[1;33m\u001b[0m\u001b[1;33m\u001b[0m\u001b[0m\n\u001b[1;32m---> 93\u001b[1;33m             \u001b[1;32mif\u001b[0m \u001b[0mnode\u001b[0m\u001b[1;33m.\u001b[0m\u001b[0mdata\u001b[0m \u001b[1;33m<\u001b[0m \u001b[0mvalue\u001b[0m\u001b[1;33m:\u001b[0m\u001b[1;33m\u001b[0m\u001b[1;33m\u001b[0m\u001b[0m\n\u001b[0m\u001b[0;32m     94\u001b[0m                 \u001b[1;32mif\u001b[0m \u001b[0mnode\u001b[0m\u001b[1;33m.\u001b[0m\u001b[0mr_child\u001b[0m\u001b[1;33m:\u001b[0m\u001b[1;33m\u001b[0m\u001b[1;33m\u001b[0m\u001b[0m\n\u001b[0;32m     95\u001b[0m                     \u001b[0mnode\u001b[0m \u001b[1;33m=\u001b[0m \u001b[0mnode\u001b[0m\u001b[1;33m.\u001b[0m\u001b[0mr_child\u001b[0m\u001b[1;33m\u001b[0m\u001b[1;33m\u001b[0m\u001b[0m\n",
      "\u001b[1;31mTypeError\u001b[0m: '<' not supported between instances of 'int' and 'Node'"
     ]
    }
   ],
   "source": [
    "bst = None\n",
    "nodes = [Node(15), Node(6), Node(18), Node(3), Node(7), \n",
    "         Node(17), Node(20), Node(2), Node(4)]\n",
    "for node in nodes:\n",
    "    if not bst:\n",
    "        bst = node\n",
    "    else:\n",
    "        bst.insert(node)\n",
    "        \n",
    "print(avg_cmp(bst))"
   ]
  },
  {
   "cell_type": "markdown",
   "metadata": {
    "deletable": false,
    "editable": false,
    "nbgrader": {
     "checksum": "219e1c0aea58c5955539210f5c34b000",
     "grade": false,
     "grade_id": "cell-4b7d0c4e86568346",
     "locked": true,
     "schema_version": 1,
     "solution": false
    }
   },
   "source": [
    "## Part B. Depth of randomly-built trees\n",
    "The average number of comparisons for a randomly chosen element within the tree is related to the “average depth” of the tree. Here the average depth of a tree is defined to be the average of the depths of all the nodes in the tree. \n",
    "\n",
    "## Question 1 [time estimate: 10 minutes]\n",
    "\n",
    "Complete the following function to find the maximum depth of a node in a given BST. The function must run in $\\mathrm{O}(N)$ time and use $\\mathrm{O}(h)$ space (where $N$ is the number of elements in the BST and $h$ is the height of the tree). Also, note that the maximum depth is equal to the height of the tree.\n"
   ]
  },
  {
   "cell_type": "code",
   "execution_count": 57,
   "metadata": {
    "deletable": false,
    "nbgrader": {
     "checksum": "71f602309416ba9c718f06f4cc466075",
     "grade": false,
     "grade_id": "cell-64aba253c2b1bada",
     "locked": false,
     "schema_version": 1,
     "solution": true
    }
   },
   "outputs": [],
   "source": [
    "def max_depth(bst):\n",
    "    \"\"\"\n",
    "    Finds the maximum depth of node in a BST.\n",
    "    \n",
    "    Parameters\n",
    "    ----------\n",
    "    bst \n",
    "        A Node, the root of the BST\n",
    "    \n",
    "    Returns\n",
    "    -------\n",
    "    h : int\n",
    "        The maximum depth in a BST\n",
    "        \n",
    "    \"\"\"\n",
    "    depths = []                                    # will store the depths of all the nodes of a BST\n",
    "    while bst:                                     # while root exists\n",
    "        depths.append(depth(bst, bst.minimum()))   # add the depth of current node to depths list\n",
    "        bst.delete(bst.minimum())                  # delete current node\n",
    "    return max(depths)                             # return maximum of all the depths"
   ]
  },
  {
   "cell_type": "code",
   "execution_count": null,
   "metadata": {
    "deletable": false,
    "editable": false,
    "nbgrader": {
     "checksum": "641f559b2bcdfad11577dd6202a0e378",
     "grade": true,
     "grade_id": "cell-82deabcb0ea2e594",
     "locked": true,
     "points": 1,
     "schema_version": 1,
     "solution": false
    }
   },
   "outputs": [],
   "source": [
    "# Please ignore this cell. This cell is for us to implement the tests \n",
    "# to see if your code works properly. "
   ]
  },
  {
   "cell_type": "markdown",
   "metadata": {
    "deletable": false,
    "nbgrader": {
     "checksum": "3224988f295d6adc77632f7f4ff5c8e2",
     "grade": false,
     "grade_id": "cell-fd78b979c52b9527",
     "locked": true,
     "schema_version": 1,
     "solution": false
    }
   },
   "source": [
    "## Question 2 [time estimate: 5 minutes]\n",
    "\n",
    "Using the `avg_cmp` function, complete the following function to return the average depth of the tree. The average depth is related to the average number of comparisons as `average depth = (average comparisons - 1)`, since the root has depth zero."
   ]
  },
  {
   "cell_type": "code",
   "execution_count": 56,
   "metadata": {
    "deletable": false,
    "nbgrader": {
     "checksum": "90d64051c00f344fc6baaf3ae169c87f",
     "grade": false,
     "grade_id": "cell-347916904e4a8379",
     "locked": false,
     "schema_version": 1,
     "solution": true
    }
   },
   "outputs": [],
   "source": [
    "def avg_depth(bst):\n",
    "    \"\"\"\n",
    "    Computes the average depth of a BST\n",
    "    \n",
    "    Parameters\n",
    "    ----------\n",
    "    bst\n",
    "        A Node, root of the BST\n",
    "    \n",
    "    Returns\n",
    "    -------\n",
    "    avg_d : float\n",
    "        Average depth of the BST\n",
    "        \n",
    "    \"\"\"\n",
    "    return avg_cmp(bst) - 1"
   ]
  },
  {
   "cell_type": "code",
   "execution_count": null,
   "metadata": {
    "deletable": false,
    "editable": false,
    "nbgrader": {
     "checksum": "43da2ece71043e2a56753ec2f9b208dc",
     "grade": true,
     "grade_id": "cell-1bd7535fe6950d5f",
     "locked": true,
     "points": 1,
     "schema_version": 1,
     "solution": false
    }
   },
   "outputs": [],
   "source": [
    "# Please ignore this cell. This cell is for us to implement the tests \n",
    "# to see if your code works properly. "
   ]
  },
  {
   "cell_type": "markdown",
   "metadata": {
    "deletable": false,
    "editable": false,
    "nbgrader": {
     "checksum": "25274f67359e9c4280895dca8e0589d1",
     "grade": false,
     "grade_id": "cell-6365329a3c57c1b1",
     "locked": true,
     "schema_version": 1,
     "solution": false
    }
   },
   "source": [
    "## Question 3 [time estimate: 10 minutes]\n",
    "Now, insert randomly shuffled lists into BSTs, and measure the average depth and the maximum depth. How do these statistics scale as you increase $N$, the number of nodes? Make sure to give a compelling argument that motivates this scaling behaviour (you do not need to provide a technical derivation)."
   ]
  },
  {
   "cell_type": "markdown",
   "metadata": {
    "deletable": false,
    "nbgrader": {
     "checksum": "8a281cd793099803988046803bed99ba",
     "grade": true,
     "grade_id": "cell-bad918a333cabe43",
     "locked": false,
     "points": 0,
     "schema_version": 1,
     "solution": true
    }
   },
   "source": [
    "    Same as the preclass work from 9.1, I couldn't get search() to work and so I can't test most of these functions. A better way to have done all of these functions (such as avg_cmp() and max_depth()) would have been to have a new attribute for each node to indicate whether it's been visited before. That way, I can go down each branch and not repeat going down a branch if that path has been checked before. To simplify the algorithm, I just took a greedy approach and checked all the nodes while deleting nodes. This is not very efficient (in terms of complexity and also because all the nodes would be gone) but that was the quickest solution I could think of.\n",
    "    \n",
    "    Anyways, I would guess that the average and maximum depth of a randomly shuffled BST would scale log N as N increases. This is because a randomly shuffled BST should be fairly balanced and with a balanced tree, the maximum depth should be around log N because we split into two children every generation."
   ]
  },
  {
   "cell_type": "markdown",
   "metadata": {
    "deletable": false,
    "editable": false,
    "nbgrader": {
     "checksum": "dd1dd0c5c45fc94abb6229a38d8e04a2",
     "grade": false,
     "grade_id": "cell-3255b4081c295fa6",
     "locked": true,
     "schema_version": 1,
     "solution": false
    }
   },
   "source": [
    "\n",
    "## Question 4 [time estimate: 7 minutes]\n",
    "\n",
    "Produce a plot showing the scaling behavior that you saw of both the average depth and the maximum depth as a function of the length of the shuffled list. For a meaningful figure, be sure to scale out to a list of size 10,000 and average the timings 50 times. (You don’t have to sample each value from 1 to 10,000!). Is this plot in agreement with the theoretical result you obtained in the previous question? Explain. \n"
   ]
  },
  {
   "cell_type": "code",
   "execution_count": 59,
   "metadata": {
    "deletable": false,
    "nbgrader": {
     "checksum": "a870cffbb739ec466993697791c20248",
     "grade": true,
     "grade_id": "cell-3034eb71070a6734",
     "locked": false,
     "points": 0,
     "schema_version": 1,
     "solution": true
    }
   },
   "outputs": [],
   "source": [
    "# I've worked on this for a while now and the search() method seems to be messing with everything. Once that works,\n",
    "# I could check the run time through simulation but I can't do that at this point."
   ]
  },
  {
   "cell_type": "code",
   "execution_count": null,
   "metadata": {},
   "outputs": [],
   "source": [
    "plt.plot(N, max_depths, color = 'red',label = 'max depth', linewidth = 1.0)\n",
    "plt.plot(N, avg_depths, color = 'blue',label = 'average depth', linewidth = 1.0)\n",
    "plt.xlabel('$N$', fontsize=10)\n",
    "plt.ylabel('depths', fontsize=10)\n",
    "plt.legend()\n",
    "plt.show()"
   ]
  }
 ],
 "metadata": {
  "kernelspec": {
   "display_name": "Python 3",
   "language": "python",
   "name": "python3"
  },
  "language_info": {
   "codemirror_mode": {
    "name": "ipython",
    "version": 3
   },
   "file_extension": ".py",
   "mimetype": "text/x-python",
   "name": "python",
   "nbconvert_exporter": "python",
   "pygments_lexer": "ipython3",
   "version": "3.9.0"
  }
 },
 "nbformat": 4,
 "nbformat_minor": 2
}
