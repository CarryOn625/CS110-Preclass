{
 "cells": [
  {
   "cell_type": "markdown",
   "metadata": {},
   "source": [
    "Before you turn this problem in, make sure everything runs as expected. First, **restart the kernel** (in the menubar, select Kernel$\\rightarrow$Restart) and then **run all cells** (in the menubar, select Cell$\\rightarrow$Run All).\n",
    "\n",
    "Note that this Pre-class Work is estimated to take **44 minutes**.\n",
    "\n",
    "Make sure you fill in any place that says `YOUR CODE HERE` or \"YOUR ANSWER HERE\", as well as your name and collaborators below:"
   ]
  },
  {
   "cell_type": "code",
   "execution_count": null,
   "metadata": {},
   "outputs": [],
   "source": [
    "NAME = \"Paul\"\n",
    "COLLABORATORS = \"\""
   ]
  },
  {
   "cell_type": "markdown",
   "metadata": {},
   "source": [
    "---"
   ]
  },
  {
   "cell_type": "markdown",
   "metadata": {
    "deletable": false,
    "nbgrader": {
     "checksum": "a2025a945eae66ffac9bc4836ac511db",
     "grade": false,
     "grade_id": "cell-f534ec91df9dff5f",
     "locked": true,
     "schema_version": 1,
     "solution": false
    }
   },
   "source": [
    "# CS110 Pre-class Work - Randomized quicksort\n",
    "\n",
    "## Part A. Median-of-3 partitioning quicksort \n",
    "\n",
    "## Question 1 [time estimate: 10 minutes]\n",
    "\n",
    "Read through the following Python code. What does each function (i.e., median, qsort, randomized_qsort, test_qsort) do? Comment in details each function. \n"
   ]
  },
  {
   "cell_type": "code",
   "execution_count": 3,
   "metadata": {},
   "outputs": [
    {
     "name": "stdout",
     "output_type": "stream",
     "text": [
      "0.04528189999996357\n"
     ]
    }
   ],
   "source": [
    "import timeit\n",
    "import random\n",
    "\n",
    "eps = 1e-16                                 # very small number\n",
    "N = 10000                                   \n",
    "locations = [0.0, 0.5, 1.0 - eps]           # list storing 0, 0.5, and almost 1\n",
    "\n",
    "\n",
    "def median(x1, x2, x3):\n",
    "    \"\"\"\n",
    "    Find the median of three numbers. \n",
    "    \n",
    "    Input: Three numbers.\n",
    "    Output: Median of the three numbers. If equal numbers, return first number.\n",
    "    \n",
    "    \"\"\"\n",
    "    if (x1 < x2 < x3) or (x3 < x2 < x1):     # compare x2 with the other two numbers and if it is in the middle, return x2\n",
    "        return x2\n",
    "    elif (x1 < x3 < x2) or (x2 < x3 < x1):   # compare x3 with the other two numbers and if it is in the middle, return x3\n",
    "        return x3\n",
    "    else:                                    # if neither x2 nor x3 are medians, return x1\n",
    "        return x1\n",
    "\n",
    "def qsort(lst):\n",
    "    \"\"\"\n",
    "    Sorts inputted list.\n",
    "    \n",
    "    Input: list\n",
    "    Output: sorted list\n",
    "    \n",
    "    \"\"\"\n",
    "    indices = [(0, len(lst))]                # create a list with the first and last index of inputted list\n",
    "\n",
    "    while indices:                           # keep looping while indices is not empty\n",
    "        (frm, to) = indices.pop()            # save the last element of indices as a tuple to indicate from and to\n",
    "        if frm == to:                        # if from and to index is equal, loop again\n",
    "            continue\n",
    "\n",
    "        # Find the partition: \n",
    "        # (summary - compare first, middle, and last element and use the median as parititon)\n",
    "        N = to - frm                         # find the \"distance\" between the end and starting index\n",
    "        inds = [frm + int(N * n) for n in locations] # creating a list with three indices: start, middle, end\n",
    "        values = [lst[ind] for ind in inds]  # creates a list with the first, middle, and last element of input\n",
    "        partition = median(*values)          # input the three elements in values as the parameter for median and get median\n",
    "\n",
    "        # Split into lists:\n",
    "        lower = [a for a in lst[frm:to] if a < partition] # add any number less than the partition value to this list\n",
    "        upper = [a for a in lst[frm:to] if a > partition] # add any number greater than the partition value to this list\n",
    "        counts = sum([1 for a in lst[frm:to] if a == partition]) # if a number if equal to the partition, count how many there are\n",
    "\n",
    "        ind1 = frm + len(lower)              # find the index where the lower partition ends\n",
    "        ind2 = ind1 + counts                 # find the index where the uppder partition starts\n",
    "\n",
    "        # Push back into correct place:\n",
    "        lst[frm:ind1] = lower                # replace part of the input list with the lower partition\n",
    "        lst[ind1:ind2] = [partition] * counts# add the repeating numbers after the lower partition\n",
    "        lst[ind2:to] = upper                 # replace the rest of the input list with the upper partition\n",
    "\n",
    "        # Enqueue other locations\n",
    "        \"\"\"\n",
    "        the repeating numbers in the middle is sorted now so continue \n",
    "        looping with the potentially unsorted lower and upper parts\n",
    "        \n",
    "        \"\"\"\n",
    "        indices.append((frm, ind1))          # add back to the indices array the indices for the lower partition\n",
    "        indices.append((ind2, to))           # add back to the indices array the indices for the upper partition\n",
    "    return lst\n",
    "\n",
    "\n",
    "def randomized_quicksort():\n",
    "    \"\"\"\n",
    "    Test out the effect of random sampling in quick sort.\n",
    "    \n",
    "    Input: none\n",
    "    Output: sorted list \n",
    "    \"\"\"\n",
    "    lst = [i for i in range(N)]              # we create an increasing list that reaches 10,000 in increments of 1\n",
    "    random.shuffle(lst)                      # shuffle the list and randomize it\n",
    "    return qsort(lst)                        # use quicksort on the large, randomly shuffled list\n",
    "\n",
    "\n",
    "def test_quicksort():\n",
    "    \"\"\"\n",
    "    Test the quicksort that takes a randomized input\n",
    "    \n",
    "    \"\"\"\n",
    "    lst = randomized_quicksort()             # sort a list using randomized_quicksort()\n",
    "    assert (lst == [i for i in range(N)])    # see if it matches the sorted array\n",
    "\n",
    "\n",
    "# Is our algorithm correct\n",
    "test_quicksort()\n",
    "\n",
    "# How fast is our algorithm\n",
    "print(timeit.timeit(randomized_quicksort, number=1))  # run 1 simulation of quicksort to see the time it takes"
   ]
  },
  {
   "cell_type": "markdown",
   "metadata": {
    "deletable": false,
    "editable": false,
    "nbgrader": {
     "checksum": "61fb11bff1434e4b7276c7443b0267c6",
     "grade": false,
     "grade_id": "cell-a2b2429aa4e81403",
     "locked": true,
     "schema_version": 1,
     "solution": false
    }
   },
   "source": [
    "## Question 2 [time estimate: 3 minutes]\n",
    "\n",
    "What are the main differences between the `randomized_quicksort` in the code and $RANDOMIZED-QUICKSORT$ in Cormen et al., besides that the partition of `randomized_quicksort` uses a median of 3 as a pivot?"
   ]
  },
  {
   "cell_type": "markdown",
   "metadata": {
    "deletable": false,
    "nbgrader": {
     "checksum": "8915b75d94bc194ba0f4e52e475063b4",
     "grade": true,
     "grade_id": "cell-4a3cd727ccac7404",
     "locked": false,
     "points": 0,
     "schema_version": 1,
     "solution": true
    }
   },
   "source": [
    "RANDOMIZED-QUICKSORT randomizes the partition number, not the input list as \"randomized_quicksort\" does. The list stays the same but the RANDOMIZED-QUICKSORT finds a different partition number each time."
   ]
  },
  {
   "cell_type": "markdown",
   "metadata": {
    "deletable": false,
    "editable": false,
    "nbgrader": {
     "checksum": "5853f10cab01212736d0e92ce408fa97",
     "grade": false,
     "grade_id": "cell-49bff57d4018e133",
     "locked": true,
     "schema_version": 1,
     "solution": false
    }
   },
   "source": [
    "## Question 3 [time estimate: 10 minutes]\n",
    "\n",
    "What is the time complexity of this `randomized_qsort`? Time the algorithm on lists of various lengths, each list being a list of the first $n$ consecutive positive integers. Produce a graph with list lengths on the x axis and running time on the y axis. As always, don’t forget to time the algorithm several times for each list’s length and then average the results. "
   ]
  },
  {
   "cell_type": "code",
   "execution_count": 14,
   "metadata": {
    "deletable": false,
    "nbgrader": {
     "checksum": "a321a7fcecb9c9cce252ea2c6030d4ce",
     "grade": true,
     "grade_id": "cell-e0e1dac71ac7feb6",
     "locked": false,
     "points": 0,
     "schema_version": 1,
     "solution": true
    }
   },
   "outputs": [
    {
     "data": {
      "text/plain": [
       "<matplotlib.legend.Legend at 0x1e136eb9f40>"
      ]
     },
     "execution_count": 14,
     "metadata": {},
     "output_type": "execute_result"
    },
    {
     "data": {
      "image/png": "[encoded data removed]",
      "text/plain": [
       "<Figure size 432x288 with 1 Axes>"
      ]
     },
     "metadata": {
      "needs_background": "light"
     },
     "output_type": "display_data"
    }
   ],
   "source": [
    "import time\n",
    "n_experiments = 200      # number of simulations per input size\n",
    "max_length = 200         # number of inputs we will test\n",
    "\n",
    "timer = []\n",
    "input_size = []\n",
    "for k in range(1, max_length):                 # loop from 1 input size to max_length\n",
    "    input_data = [a for a in range(k)]         # the input data will increase by 1 each loop\n",
    "    end_timer = 0                              # variable to store total time after all the simulations run\n",
    "    for run in range(n_experiments):           # number of simulations\n",
    "        random.shuffle(input_data)             # shuffle the input data every simulation\n",
    "        start_timer = time.time()              # start timer\n",
    "        qsort(input_data)                      # run the quick sort function\n",
    "        end_timer += time.time() - start_timer # calculate time it took and add to end_timer\n",
    "    timer.append(end_timer/n_experiments)      # divide by number of simulations to get average\n",
    "    input_size.append(k)                       # append input size to keep track of increasing input size\n",
    "\n",
    "import matplotlib.pyplot as plt\n",
    "plt.plot(input_size, timer, label = 'Randomized Quicksort runtime')\n",
    "plt.xlabel('Input Size')\n",
    "plt.ylabel('Averaged runtime')\n",
    "plt.legend()"
   ]
  },
  {
   "cell_type": "markdown",
   "metadata": {
    "deletable": false,
    "editable": false,
    "nbgrader": {
     "checksum": "b8751f930d9dc208113425646ea7fea8",
     "grade": false,
     "grade_id": "cell-1e8309c07c2f2908",
     "locked": true,
     "schema_version": 1,
     "solution": false
    }
   },
   "source": [
    "## Question 4.\n",
    "\n",
    "### Question 4a [time estimate: 7 minutes]\n",
    "\n",
    "Change the `qsort()` function in a way that you **don’t** separate the items that are equal to the partition. In other word, you may want to put the partition in either ```lower``` or ```upper``` list instead of using ``counts`` and ```lst[ind1:ind2] = [partition] * counts``` as we did in question 1."
   ]
  },
  {
   "cell_type": "code",
   "execution_count": 35,
   "metadata": {
    "deletable": false,
    "nbgrader": {
     "checksum": "797888f53fa36bcf0f9d891c4819d8e9",
     "grade": false,
     "grade_id": "cell-a9d1f063c0340b14",
     "locked": false,
     "schema_version": 1,
     "solution": true
    }
   },
   "outputs": [
    {
     "name": "stdout",
     "output_type": "stream",
     "text": [
      "[1, 1, 2, 4, 4, 2]\n"
     ]
    }
   ],
   "source": [
    "def qsort_v2(lst):\n",
    "    \"\"\"\n",
    "    Sorts inputted list.\n",
    "    \n",
    "    Input: list\n",
    "    Output: sorted list\n",
    "    \n",
    "    \"\"\"\n",
    "    indices = [(0, len(lst))]                # create a list with the first and last index of inputted list\n",
    "\n",
    "    while indices:                           # keep looping while indices is not empty\n",
    "        (frm, to) = indices.pop()            # save the last element of indices as a tuple to indicate from and to\n",
    "        if frm == to:                        # if from and to index is equal, loop again\n",
    "            continue\n",
    "\n",
    "        # Find the partition: \n",
    "        # (summary - compare first, middle, and last element and use the median as parititon)\n",
    "        N = to - frm                         # find the \"distance\" between the end and starting index\n",
    "        inds = [frm + int(N * n) for n in locations] # creating a list with three indices: start, middle, end\n",
    "        values = [lst[ind] for ind in inds]  # creates a list with the first, middle, and last element of input\n",
    "        partition = median(*values)          # input the three elements in values as the parameter for median and get median\n",
    "\n",
    "        # Split into lists:\n",
    "        lower = [a for a in lst[frm:to] if a < partition] # add any number less than the partition value to this list\n",
    "        upper = [a for a in lst[frm:to] if a >= partition] # add any number greater than OR EQUAL the partition value to this list\n",
    "        # REMOVED THIS LINE FROM PREVIOUS CODE\n",
    "        \n",
    "        ind1 = frm + len(lower)              # find the index where the lower partition ends\n",
    "        # REMOVED THIS LINE FROM PREVIOUS CODE\n",
    "        \n",
    "        # Push back into correct place:\n",
    "        lst[frm:ind1] = lower                # replace part of the input list with the lower partition\n",
    "        # REMOVED THIS LINE FROM PREVIOUS CODE\n",
    "        lst[ind1+1:to] = upper               # replace the rest of the input list with the upper partition\n",
    "\n",
    "        # Enqueue other locations\n",
    "        indices.append((frm, ind1))          # add back to the indices array the indices for the lower partition\n",
    "        indices.append((ind1+1, to))         # add back to the indices array the indices for the upper partition\n",
    "    return lst\n",
    "\n",
    "print(qsort_v2([4,2,1]))"
   ]
  },
  {
   "cell_type": "code",
   "execution_count": 16,
   "metadata": {
    "deletable": false,
    "editable": false,
    "nbgrader": {
     "checksum": "ce755b787f1b82629d627d2f8bea66a5",
     "grade": true,
     "grade_id": "cell-2c0cbd296d612f85",
     "locked": true,
     "points": 1,
     "schema_version": 1,
     "solution": false
    }
   },
   "outputs": [
    {
     "ename": "AssertionError",
     "evalue": "",
     "output_type": "error",
     "traceback": [
      "\u001b[1;31m---------------------------------------------------------------------------\u001b[0m",
      "\u001b[1;31mAssertionError\u001b[0m                            Traceback (most recent call last)",
      "\u001b[1;32m<ipython-input-16-8b761fcdfdaa>\u001b[0m in \u001b[0;36m<module>\u001b[1;34m\u001b[0m\n\u001b[1;32m----> 1\u001b[1;33m \u001b[1;32massert\u001b[0m\u001b[1;33m(\u001b[0m\u001b[0mqsort\u001b[0m\u001b[1;33m(\u001b[0m\u001b[1;33m[\u001b[0m\u001b[1;36m4\u001b[0m\u001b[1;33m,\u001b[0m\u001b[1;36m2\u001b[0m\u001b[1;33m,\u001b[0m\u001b[1;36m1\u001b[0m\u001b[1;33m]\u001b[0m\u001b[1;33m)\u001b[0m\u001b[1;33m==\u001b[0m\u001b[1;33m[\u001b[0m\u001b[1;36m1\u001b[0m\u001b[1;33m,\u001b[0m\u001b[1;36m2\u001b[0m\u001b[1;33m,\u001b[0m\u001b[1;36m4\u001b[0m\u001b[1;33m]\u001b[0m\u001b[1;33m)\u001b[0m\u001b[1;33m\u001b[0m\u001b[1;33m\u001b[0m\u001b[0m\n\u001b[0m\u001b[0;32m      2\u001b[0m \u001b[1;32massert\u001b[0m\u001b[1;33m(\u001b[0m\u001b[0mqsort\u001b[0m\u001b[1;33m(\u001b[0m\u001b[1;33m[\u001b[0m\u001b[1;36m4\u001b[0m\u001b[1;33m,\u001b[0m\u001b[1;36m4\u001b[0m\u001b[1;33m,\u001b[0m\u001b[1;36m2\u001b[0m\u001b[1;33m,\u001b[0m\u001b[1;36m2\u001b[0m\u001b[1;33m,\u001b[0m\u001b[1;36m1\u001b[0m\u001b[1;33m,\u001b[0m\u001b[1;36m1\u001b[0m\u001b[1;33m]\u001b[0m\u001b[1;33m)\u001b[0m\u001b[1;33m==\u001b[0m\u001b[1;33m[\u001b[0m\u001b[1;36m1\u001b[0m\u001b[1;33m,\u001b[0m\u001b[1;36m1\u001b[0m\u001b[1;33m,\u001b[0m\u001b[1;36m2\u001b[0m\u001b[1;33m,\u001b[0m\u001b[1;36m2\u001b[0m\u001b[1;33m,\u001b[0m\u001b[1;36m4\u001b[0m\u001b[1;33m,\u001b[0m\u001b[1;36m4\u001b[0m\u001b[1;33m]\u001b[0m\u001b[1;33m)\u001b[0m\u001b[1;33m\u001b[0m\u001b[1;33m\u001b[0m\u001b[0m\n\u001b[0;32m      3\u001b[0m \u001b[1;32massert\u001b[0m\u001b[1;33m(\u001b[0m\u001b[0mqsort\u001b[0m\u001b[1;33m(\u001b[0m\u001b[1;33m[\u001b[0m\u001b[1;36m0\u001b[0m\u001b[1;33m]\u001b[0m\u001b[1;33m)\u001b[0m\u001b[1;33m==\u001b[0m\u001b[1;33m[\u001b[0m\u001b[1;36m0\u001b[0m\u001b[1;33m]\u001b[0m\u001b[1;33m)\u001b[0m\u001b[1;33m\u001b[0m\u001b[1;33m\u001b[0m\u001b[0m\n",
      "\u001b[1;31mAssertionError\u001b[0m: "
     ]
    }
   ],
   "source": [
    "assert(qsort([4,2,1])==[1,2,4])\n",
    "assert(qsort([4,4,2,2,1,1])==[1,1,2,2,4,4])\n",
    "assert(qsort([0])==[0])"
   ]
  },
  {
   "cell_type": "markdown",
   "metadata": {
    "deletable": false,
    "editable": false,
    "nbgrader": {
     "checksum": "3f5f9ca976fb636978e2bdfda98a5eeb",
     "grade": false,
     "grade_id": "cell-76883a453f020d72",
     "locked": true,
     "schema_version": 1,
     "solution": false
    }
   },
   "source": [
    "### Question 4b [time estimate: 3 minutes]\n",
    "\n",
    "Now time the algorithm on the same inputs you have used in question 3, adding one more line in the previous graph you have produced. "
   ]
  },
  {
   "cell_type": "code",
   "execution_count": 38,
   "metadata": {
    "deletable": false,
    "nbgrader": {
     "checksum": "33188fb282e53d117dfe275067ad3567",
     "grade": true,
     "grade_id": "cell-31ee807cec9ce8bf",
     "locked": false,
     "points": 0,
     "schema_version": 1,
     "solution": true
    }
   },
   "outputs": [
    {
     "ename": "KeyboardInterrupt",
     "evalue": "",
     "output_type": "error",
     "traceback": [
      "\u001b[1;31m---------------------------------------------------------------------------\u001b[0m",
      "\u001b[1;31mKeyboardInterrupt\u001b[0m                         Traceback (most recent call last)",
      "\u001b[1;32m<ipython-input-38-20a019f1b072>\u001b[0m in \u001b[0;36m<module>\u001b[1;34m\u001b[0m\n\u001b[0;32m     25\u001b[0m \u001b[1;33m\u001b[0m\u001b[0m\n\u001b[0;32m     26\u001b[0m \u001b[0mtime_quicksort\u001b[0m\u001b[1;33m(\u001b[0m\u001b[0mqsort\u001b[0m\u001b[1;33m)\u001b[0m\u001b[1;33m\u001b[0m\u001b[1;33m\u001b[0m\u001b[0m\n\u001b[1;32m---> 27\u001b[1;33m \u001b[0mtime_quicksort\u001b[0m\u001b[1;33m(\u001b[0m\u001b[0mqsort_v2\u001b[0m\u001b[1;33m)\u001b[0m\u001b[1;33m\u001b[0m\u001b[1;33m\u001b[0m\u001b[0m\n\u001b[0m",
      "\u001b[1;32m<ipython-input-38-20a019f1b072>\u001b[0m in \u001b[0;36mtime_quicksort\u001b[1;34m(alg)\u001b[0m\n\u001b[0;32m     14\u001b[0m             \u001b[0mrandom\u001b[0m\u001b[1;33m.\u001b[0m\u001b[0mshuffle\u001b[0m\u001b[1;33m(\u001b[0m\u001b[0minput_data\u001b[0m\u001b[1;33m)\u001b[0m             \u001b[1;31m# shuffle the input data every simulation\u001b[0m\u001b[1;33m\u001b[0m\u001b[1;33m\u001b[0m\u001b[0m\n\u001b[0;32m     15\u001b[0m             \u001b[0mstart_timer\u001b[0m \u001b[1;33m=\u001b[0m \u001b[0mtime\u001b[0m\u001b[1;33m.\u001b[0m\u001b[0mtime\u001b[0m\u001b[1;33m(\u001b[0m\u001b[1;33m)\u001b[0m              \u001b[1;31m# start timer\u001b[0m\u001b[1;33m\u001b[0m\u001b[1;33m\u001b[0m\u001b[0m\n\u001b[1;32m---> 16\u001b[1;33m             \u001b[0malg\u001b[0m\u001b[1;33m(\u001b[0m\u001b[0minput_data\u001b[0m\u001b[1;33m)\u001b[0m                        \u001b[1;31m# run the quick sort function\u001b[0m\u001b[1;33m\u001b[0m\u001b[1;33m\u001b[0m\u001b[0m\n\u001b[0m\u001b[0;32m     17\u001b[0m             \u001b[0mend_timer\u001b[0m \u001b[1;33m+=\u001b[0m \u001b[0mtime\u001b[0m\u001b[1;33m.\u001b[0m\u001b[0mtime\u001b[0m\u001b[1;33m(\u001b[0m\u001b[1;33m)\u001b[0m \u001b[1;33m-\u001b[0m \u001b[0mstart_timer\u001b[0m \u001b[1;31m# calculate time it took and add to end_timer\u001b[0m\u001b[1;33m\u001b[0m\u001b[1;33m\u001b[0m\u001b[0m\n\u001b[0;32m     18\u001b[0m         \u001b[0mtimer\u001b[0m\u001b[1;33m.\u001b[0m\u001b[0mappend\u001b[0m\u001b[1;33m(\u001b[0m\u001b[0mend_timer\u001b[0m\u001b[1;33m/\u001b[0m\u001b[0mn_experiments\u001b[0m\u001b[1;33m)\u001b[0m      \u001b[1;31m# divide by number of simulations to get average\u001b[0m\u001b[1;33m\u001b[0m\u001b[1;33m\u001b[0m\u001b[0m\n",
      "\u001b[1;32m<ipython-input-35-e4f6cb60131b>\u001b[0m in \u001b[0;36mqsort_v2\u001b[1;34m(lst)\u001b[0m\n\u001b[0;32m     23\u001b[0m         \u001b[1;31m# Split into lists:\u001b[0m\u001b[1;33m\u001b[0m\u001b[1;33m\u001b[0m\u001b[1;33m\u001b[0m\u001b[0m\n\u001b[0;32m     24\u001b[0m         \u001b[0mlower\u001b[0m \u001b[1;33m=\u001b[0m \u001b[1;33m[\u001b[0m\u001b[0ma\u001b[0m \u001b[1;32mfor\u001b[0m \u001b[0ma\u001b[0m \u001b[1;32min\u001b[0m \u001b[0mlst\u001b[0m\u001b[1;33m[\u001b[0m\u001b[0mfrm\u001b[0m\u001b[1;33m:\u001b[0m\u001b[0mto\u001b[0m\u001b[1;33m]\u001b[0m \u001b[1;32mif\u001b[0m \u001b[0ma\u001b[0m \u001b[1;33m<\u001b[0m \u001b[0mpartition\u001b[0m\u001b[1;33m]\u001b[0m \u001b[1;31m# add any number less than the partition value to this list\u001b[0m\u001b[1;33m\u001b[0m\u001b[1;33m\u001b[0m\u001b[0m\n\u001b[1;32m---> 25\u001b[1;33m         \u001b[0mupper\u001b[0m \u001b[1;33m=\u001b[0m \u001b[1;33m[\u001b[0m\u001b[0ma\u001b[0m \u001b[1;32mfor\u001b[0m \u001b[0ma\u001b[0m \u001b[1;32min\u001b[0m \u001b[0mlst\u001b[0m\u001b[1;33m[\u001b[0m\u001b[0mfrm\u001b[0m\u001b[1;33m:\u001b[0m\u001b[0mto\u001b[0m\u001b[1;33m]\u001b[0m \u001b[1;32mif\u001b[0m \u001b[0ma\u001b[0m \u001b[1;33m>=\u001b[0m \u001b[0mpartition\u001b[0m\u001b[1;33m]\u001b[0m \u001b[1;31m# add any number greater than OR EQUAL the partition value to this list\u001b[0m\u001b[1;33m\u001b[0m\u001b[1;33m\u001b[0m\u001b[0m\n\u001b[0m\u001b[0;32m     26\u001b[0m         \u001b[1;31m# REMOVED THIS LINE FROM PREVIOUS CODE\u001b[0m\u001b[1;33m\u001b[0m\u001b[1;33m\u001b[0m\u001b[1;33m\u001b[0m\u001b[0m\n\u001b[0;32m     27\u001b[0m \u001b[1;33m\u001b[0m\u001b[0m\n",
      "\u001b[1;32m<ipython-input-35-e4f6cb60131b>\u001b[0m in \u001b[0;36m<listcomp>\u001b[1;34m(.0)\u001b[0m\n\u001b[0;32m     23\u001b[0m         \u001b[1;31m# Split into lists:\u001b[0m\u001b[1;33m\u001b[0m\u001b[1;33m\u001b[0m\u001b[1;33m\u001b[0m\u001b[0m\n\u001b[0;32m     24\u001b[0m         \u001b[0mlower\u001b[0m \u001b[1;33m=\u001b[0m \u001b[1;33m[\u001b[0m\u001b[0ma\u001b[0m \u001b[1;32mfor\u001b[0m \u001b[0ma\u001b[0m \u001b[1;32min\u001b[0m \u001b[0mlst\u001b[0m\u001b[1;33m[\u001b[0m\u001b[0mfrm\u001b[0m\u001b[1;33m:\u001b[0m\u001b[0mto\u001b[0m\u001b[1;33m]\u001b[0m \u001b[1;32mif\u001b[0m \u001b[0ma\u001b[0m \u001b[1;33m<\u001b[0m \u001b[0mpartition\u001b[0m\u001b[1;33m]\u001b[0m \u001b[1;31m# add any number less than the partition value to this list\u001b[0m\u001b[1;33m\u001b[0m\u001b[1;33m\u001b[0m\u001b[0m\n\u001b[1;32m---> 25\u001b[1;33m         \u001b[0mupper\u001b[0m \u001b[1;33m=\u001b[0m \u001b[1;33m[\u001b[0m\u001b[0ma\u001b[0m \u001b[1;32mfor\u001b[0m \u001b[0ma\u001b[0m \u001b[1;32min\u001b[0m \u001b[0mlst\u001b[0m\u001b[1;33m[\u001b[0m\u001b[0mfrm\u001b[0m\u001b[1;33m:\u001b[0m\u001b[0mto\u001b[0m\u001b[1;33m]\u001b[0m \u001b[1;32mif\u001b[0m \u001b[0ma\u001b[0m \u001b[1;33m>=\u001b[0m \u001b[0mpartition\u001b[0m\u001b[1;33m]\u001b[0m \u001b[1;31m# add any number greater than OR EQUAL the partition value to this list\u001b[0m\u001b[1;33m\u001b[0m\u001b[1;33m\u001b[0m\u001b[0m\n\u001b[0m\u001b[0;32m     26\u001b[0m         \u001b[1;31m# REMOVED THIS LINE FROM PREVIOUS CODE\u001b[0m\u001b[1;33m\u001b[0m\u001b[1;33m\u001b[0m\u001b[1;33m\u001b[0m\u001b[0m\n\u001b[0;32m     27\u001b[0m \u001b[1;33m\u001b[0m\u001b[0m\n",
      "\u001b[1;31mKeyboardInterrupt\u001b[0m: "
     ]
    },
    {
     "data": {
      "image/png": "[encoded data removed]",
      "text/plain": [
       "<Figure size 432x288 with 1 Axes>"
      ]
     },
     "metadata": {
      "needs_background": "light"
     },
     "output_type": "display_data"
    }
   ],
   "source": [
    "import matplotlib.pyplot as plt\n",
    "import time\n",
    "\n",
    "def time_quicksort(alg):\n",
    "    n_experiments = 100      # number of simulations per input size\n",
    "    max_length = 100         # number of inputs we will test\n",
    "\n",
    "    timer = []\n",
    "    input_size = []\n",
    "    for k in range(1, max_length):                 # loop from 1 input size to max_length\n",
    "        input_data = [a for a in range(k)]         # the input data will increase by 1 each loop\n",
    "        end_timer = 0                              # variable to store total time after all the simulations run\n",
    "        for run in range(n_experiments):           # number of simulations\n",
    "            random.shuffle(input_data)             # shuffle the input data every simulation\n",
    "            start_timer = time.time()              # start timer\n",
    "            alg(input_data)                        # run the quick sort function\n",
    "            end_timer += time.time() - start_timer # calculate time it took and add to end_timer\n",
    "        timer.append(end_timer/n_experiments)      # divide by number of simulations to get average\n",
    "        input_size.append(k)                       # append input size to keep track of increasing input size\n",
    "\n",
    "    plt.plot(input_size, timer, label = 'Randomized Quicksort runtime')\n",
    "    plt.xlabel('Input Size')\n",
    "    plt.ylabel('Averaged runtime')\n",
    "    plt.legend()\n",
    "    \n",
    "time_quicksort(qsort)\n",
    "time_quicksort(qsort_v2)"
   ]
  },
  {
   "cell_type": "markdown",
   "metadata": {
    "deletable": false,
    "editable": false,
    "nbgrader": {
     "checksum": "991ee87c525d8fa29bd448aa80dbf243",
     "grade": false,
     "grade_id": "cell-b666e68e84dfce03",
     "locked": true,
     "schema_version": 1,
     "solution": false
    }
   },
   "source": [
    "## Question 5.\n",
    "\n",
    "### Question 5a [time estimate: 3 minutes]\n",
    "\n",
    "Remove the median-of-3 partitioning, and just use the first element in the array. "
   ]
  },
  {
   "cell_type": "code",
   "execution_count": null,
   "metadata": {
    "deletable": false,
    "nbgrader": {
     "checksum": "90dbb100f881a2c9a61720a0753ca401",
     "grade": false,
     "grade_id": "cell-4daf36021c15eaf0",
     "locked": false,
     "schema_version": 1,
     "solution": true
    }
   },
   "outputs": [],
   "source": [
    "def qsort(lst):\n",
    "    # YOUR CODE HERE\n",
    "    raise NotImplementedError()"
   ]
  },
  {
   "cell_type": "code",
   "execution_count": null,
   "metadata": {
    "deletable": false,
    "editable": false,
    "nbgrader": {
     "checksum": "9d457eff304d19e031a8eabb4615ca3b",
     "grade": true,
     "grade_id": "cell-97473a9e0d12e745",
     "locked": true,
     "points": 1,
     "schema_version": 1,
     "solution": false
    }
   },
   "outputs": [],
   "source": [
    "assert(qsort([4,2,1])==[1,2,4])\n",
    "assert(qsort([0])==[0])"
   ]
  },
  {
   "cell_type": "markdown",
   "metadata": {
    "deletable": false,
    "editable": false,
    "nbgrader": {
     "checksum": "8f0166e7d0021886bb7176f35011a633",
     "grade": false,
     "grade_id": "cell-2ca71dd53b31262b",
     "locked": true,
     "schema_version": 1,
     "solution": false
    }
   },
   "source": [
    "### Question 5b [time estimate: 3 minutes]\n",
    "\n",
    "Does this change the running time of your algorithm? Justify your response with a graph. \n",
    "\n"
   ]
  },
  {
   "cell_type": "code",
   "execution_count": null,
   "metadata": {
    "deletable": false,
    "nbgrader": {
     "checksum": "bd863db414089f9ead9906b3c2c34a15",
     "grade": true,
     "grade_id": "cell-1f3a6df29d324853",
     "locked": false,
     "points": 0,
     "schema_version": 1,
     "solution": true
    }
   },
   "outputs": [],
   "source": [
    "# couldn't get problem 4 to work properly... worked on it for an a while\n",
    "raise NotImplementedError()"
   ]
  },
  {
   "cell_type": "markdown",
   "metadata": {
    "deletable": false,
    "editable": false,
    "nbgrader": {
     "checksum": "51af6d987694ab6231a6f4aa19f39164",
     "grade": false,
     "grade_id": "cell-67512d1d42af415f",
     "locked": true,
     "schema_version": 1,
     "solution": false
    }
   },
   "source": [
    "## Part B. Recursive quicksort [time estimate: 5 minutes]\n",
    "\n",
    "One main difference between the quicksort algorithms in Cormen et al. and the implementation in the code above is that quick sort (in the code in this notebook) is not recursive, while $QUICKSORT$ in Cormen et al. is. Given the limitation of Python so that it can only make 500 recursive calls, estimate the maximum size of the list that can be sorted by Python if a recursive quicksort is to be used. Explicitly state all assumptions you make in getting to an answer.\n"
   ]
  },
  {
   "cell_type": "markdown",
   "metadata": {
    "deletable": false,
    "nbgrader": {
     "checksum": "7be7bc411376ac8090621f3d68630c10",
     "grade": true,
     "grade_id": "cell-4af5aab4ad1a7225",
     "locked": false,
     "points": 0,
     "schema_version": 1,
     "solution": true
    }
   },
   "source": [
    "YOUR ANSWER HERE"
   ]
  }
 ],
 "metadata": {
  "celltoolbar": "Edit Metadata",
  "kernelspec": {
   "display_name": "Python 3",
   "language": "python",
   "name": "python3"
  },
  "language_info": {
   "codemirror_mode": {
    "name": "ipython",
    "version": 3
   },
   "file_extension": ".py",
   "mimetype": "text/x-python",
   "name": "python",
   "nbconvert_exporter": "python",
   "pygments_lexer": "ipython3",
   "version": "3.9.0"
  }
 },
 "nbformat": 4,
 "nbformat_minor": 2
}
